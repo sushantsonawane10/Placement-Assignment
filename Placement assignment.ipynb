{
 "cells": [
  {
   "cell_type": "markdown",
   "id": "57e4ce47",
   "metadata": {},
   "source": [
    "### Ques 1 "
   ]
  },
  {
   "cell_type": "code",
   "execution_count": 1,
   "id": "784f9ae4",
   "metadata": {},
   "outputs": [],
   "source": [
    "f = open('example.txt','wt')\n",
    "f.write('This is a placement assignment')\n",
    "f.close() "
   ]
  },
  {
   "cell_type": "code",
   "execution_count": 2,
   "id": "cd8c156e",
   "metadata": {},
   "outputs": [
    {
     "name": "stdout",
     "output_type": "stream",
     "text": [
      "This is a placement assignment\n"
     ]
    }
   ],
   "source": [
    "f = open('example.txt')\n",
    "print(f.read())\n",
    "f.close() "
   ]
  },
  {
   "cell_type": "code",
   "execution_count": 4,
   "id": "aa053c31",
   "metadata": {},
   "outputs": [
    {
     "name": "stdout",
     "output_type": "stream",
     "text": [
      "This is a placement assignment\n"
     ]
    }
   ],
   "source": [
    "f = open('example.txt')\n",
    "a = f.read()\n",
    "f.close()\n",
    "print(a)"
   ]
  },
  {
   "cell_type": "code",
   "execution_count": 5,
   "id": "7738f7a0",
   "metadata": {},
   "outputs": [
    {
     "name": "stdout",
     "output_type": "stream",
     "text": [
      "yes placement is present into the file\n"
     ]
    }
   ],
   "source": [
    "def changethefilecontent():\n",
    "    global a\n",
    "    if 'placement' in a:\n",
    "        print('yes placement is present into the file')\n",
    "        f = open('example.txt','wt')\n",
    "        a = a.replace('placement','screening')\n",
    "        f.write(a)\n",
    "        f.close()\n",
    "    else:\n",
    "        'Sushant your code is wrong'\n",
    "    \n",
    "changethefilecontent() "
   ]
  },
  {
   "cell_type": "code",
   "execution_count": 51,
   "id": "d41e2fb0",
   "metadata": {},
   "outputs": [],
   "source": []
  },
  {
   "cell_type": "code",
   "execution_count": 6,
   "id": "2e063db8",
   "metadata": {},
   "outputs": [],
   "source": [
    "f = open('example.txt','wt')\n",
    "f.write('This is a placement assignment')\n",
    "f.close() "
   ]
  },
  {
   "cell_type": "code",
   "execution_count": 7,
   "id": "bea9cb5b",
   "metadata": {},
   "outputs": [
    {
     "name": "stdout",
     "output_type": "stream",
     "text": [
      "This is a placement assignment\n"
     ]
    }
   ],
   "source": [
    "f = open('example.txt')\n",
    "a = f.read()\n",
    "f.close()\n",
    "print(a)"
   ]
  },
  {
   "cell_type": "code",
   "execution_count": 8,
   "id": "3c26bd88",
   "metadata": {},
   "outputs": [
    {
     "name": "stdout",
     "output_type": "stream",
     "text": [
      "yes placement is present into the file\n"
     ]
    }
   ],
   "source": [
    "def changethefilecontent():\n",
    "    global a\n",
    "    if 'placement' in a:\n",
    "        print('yes placement is present into the file')\n",
    "        f = open('example.txt','wt')\n",
    "        a = a.replace('placement','screening')\n",
    "        f.write(a)\n",
    "        f.close()\n",
    "    else:\n",
    "        'Aadil your code is wrong'\n",
    "    \n",
    "changethefilecontent()"
   ]
  },
  {
   "cell_type": "markdown",
   "id": "8385daef",
   "metadata": {},
   "source": [
    "### Ques 2"
   ]
  },
  {
   "cell_type": "code",
   "execution_count": 15,
   "id": "faf9ef7a",
   "metadata": {},
   "outputs": [
    {
     "data": {
      "text/plain": [
       "42"
      ]
     },
     "execution_count": 15,
     "metadata": {},
     "output_type": "execute_result"
    }
   ],
   "source": [
    "# code for abstract method\n",
    "from abc import ABC, abstractmethod\n",
    "\n",
    "class Shape(ABC):\n",
    "    @abstractmethod\n",
    "    def printarea(self):\n",
    "        return 0\n",
    "\n",
    "class Rectangle(Shape):\n",
    "    type = 'Rectangle'\n",
    "    side = 4\n",
    "    \n",
    "    def __init__(self):\n",
    "        self.length = 6\n",
    "        self.breadth = 7\n",
    "    \n",
    "    def printarea(self):\n",
    "        return self.length * self.breadth   \n",
    "\n",
    "        \n",
    "\n",
    "\n",
    "r1 = Rectangle()\n",
    "r1.printarea() "
   ]
  },
  {
   "cell_type": "code",
   "execution_count": 17,
   "id": "0b53abe1",
   "metadata": {},
   "outputs": [
    {
     "name": "stdout",
     "output_type": "stream",
     "text": [
      "0\n",
      "1\n",
      "Visa\n"
     ]
    }
   ],
   "source": [
    "# multiple inheritance\n",
    "class Freelancer:\n",
    "    company = 'Fiver'\n",
    "    \n",
    "    level = 0\n",
    "    def upgradelevel(self):\n",
    "        self.level = self.level + 1\n",
    "        \n",
    "    \n",
    "class Employee:\n",
    "    company = 'Visa'\n",
    "    ecode = 120\n",
    "    \n",
    "class Programmer(Employee,Freelancer):\n",
    "    name = 'Rohit'\n",
    "    \n",
    "    \n",
    "p = Programmer()\n",
    "\n",
    "print(p.level)\n",
    "\n",
    "p.upgradelevel()\n",
    "print(p.level) \n",
    "\n",
    "print(p.company)"
   ]
  },
  {
   "cell_type": "code",
   "execution_count": 22,
   "id": "fac02b0e",
   "metadata": {},
   "outputs": [
    {
     "name": "stdout",
     "output_type": "stream",
     "text": [
      "Distinction\n",
      "Distinction\n",
      "pass\n"
     ]
    }
   ],
   "source": [
    "# decorator\n",
    "def decor_result(result_function):\n",
    "    def distinction(marks):\n",
    "        for m in marks:\n",
    "            if m>= 75:\n",
    "                print(\"Distinction\")\n",
    "        result_function(marks)\n",
    "        \n",
    "    return distinction\n",
    "   \n",
    "            \n",
    "@decor_result\n",
    "def result(marks):\n",
    "    for m in marks:\n",
    "        if m>=33:\n",
    "            pass \n",
    "        else:\n",
    "            print(\"fail\")\n",
    "            break \n",
    "    else:\n",
    "        print(\"pass\")\n",
    "\n",
    "result([50,60,70,80,75]) "
   ]
  },
  {
   "cell_type": "code",
   "execution_count": null,
   "id": "61d9d794",
   "metadata": {},
   "outputs": [],
   "source": []
  }
 ],
 "metadata": {
  "kernelspec": {
   "display_name": "Python 3",
   "language": "python",
   "name": "python3"
  },
  "language_info": {
   "codemirror_mode": {
    "name": "ipython",
    "version": 3
   },
   "file_extension": ".py",
   "mimetype": "text/x-python",
   "name": "python",
   "nbconvert_exporter": "python",
   "pygments_lexer": "ipython3",
   "version": "3.8.8"
  }
 },
 "nbformat": 4,
 "nbformat_minor": 5
}
